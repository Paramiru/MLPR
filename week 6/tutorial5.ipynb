{
 "cells": [
  {
   "cell_type": "code",
   "execution_count": null,
   "metadata": {},
   "outputs": [],
   "source": [
    "import numpy as np\n",
    "import matplotlib as plt"
   ]
  },
  {
   "cell_type": "code",
   "execution_count": null,
   "metadata": {},
   "outputs": [],
   "source": [
    "def rbf_fn(X1, X2):\n",
    "    return np.exp((np.dot(X1,(2*X2.T))-np.sum(X1*X1,1)[:,None]) - np.sum(X2*X2,1)[None,:])"
   ]
  },
  {
   "cell_type": "code",
   "execution_count": null,
   "metadata": {},
   "outputs": [],
   "source": [
    "def k_fn(X1, X2):\n",
    "    euc_dist = np.sqrt(np.sum(X1*X1,1)[:,None] + np.sum(X2*X2,1)[None,:] - np.dot(X1,(2*X2.T)))\n",
    "    return (1 + euc_dist)*np.exp(-euc_dist)"
   ]
  },
  {
   "cell_type": "code",
   "execution_count": null,
   "metadata": {},
   "outputs": [],
   "source": [
    "N, M, D = 2, 3, 5\n",
    "X1 = np.random.randn(N, D)\n",
    "X2 = np.random.randn(M, D)\n",
    "print(X1)\n",
    "print()\n",
    "print(X2)"
   ]
  },
  {
   "cell_type": "code",
   "execution_count": null,
   "metadata": {},
   "outputs": [],
   "source": [
    "k_fn(X1, X2)"
   ]
  },
  {
   "cell_type": "code",
   "execution_count": null,
   "metadata": {},
   "outputs": [],
   "source": [
    "print(X1*X1)\n",
    "print(np.sum(X1*X1,1)[:,None])"
   ]
  },
  {
   "cell_type": "code",
   "execution_count": null,
   "metadata": {},
   "outputs": [],
   "source": [
    "np.sum(X2*X2,1)[None, :]"
   ]
  },
  {
   "cell_type": "code",
   "execution_count": null,
   "metadata": {},
   "outputs": [],
   "source": [
    "np.sum(X1*X1,1)[:,None] + np.sum(X2*X2,1)[None,:]\n"
   ]
  }
 ],
 "metadata": {
  "interpreter": {
   "hash": "c9df3a8e963bb936fec972be0f37ee27dd765c2ec402086234430ce5e05a38c9"
  },
  "kernelspec": {
   "display_name": "Python 3.9.7 64-bit ('mlpr': conda)",
   "name": "python3"
  },
  "language_info": {
   "codemirror_mode": {
    "name": "ipython",
    "version": 3
   },
   "file_extension": ".py",
   "mimetype": "text/x-python",
   "name": "python",
   "nbconvert_exporter": "python",
   "pygments_lexer": "ipython3",
   "version": "3.9.7"
  },
  "orig_nbformat": 4
 },
 "nbformat": 4,
 "nbformat_minor": 2
}
