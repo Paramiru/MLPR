{
 "cells": [
  {
   "cell_type": "code",
   "execution_count": 2,
   "metadata": {},
   "outputs": [],
   "source": [
    "import numpy as np\n",
    "from numpy.random import randn, uniform\n",
    "import matplotlib.pyplot as plt\n",
    "\n",
    "D = 2 # Dimension of the weight space\n",
    "N_Data_1 = 15 # Number of samples in dataset 1\n",
    "N_Data_2 = 30 # Number of samples in dataset 2\n",
    "sigma_w = 2.0\n",
    "prior_mean = [-5, 0]\n",
    "prior_precision = np.eye(D) / sigma_w**2\n",
    "# We summarize distributions using their parameters\n",
    "prior_par = {'mean': prior_mean, 'precision': prior_precision}\n",
    "# Here we draw the true underlying w. We do this only once\n",
    "w_tilde = sigma_w * randn(2) + prior_mean\n",
    "# Draw the inputs for datasets 1 and 2\n",
    "X_Data_1 = 0.5 * randn(N_Data_1, D)\n",
    "X_Data_2 = 0.1 * randn(N_Data_2, D) + 0.5\n",
    "# Draw the outputs for the datasets\n",
    "sigma_y = 1.0\n",
    "y_Data_1 = np.dot(X_Data_1, w_tilde) + sigma_y * randn(N_Data_1)\n",
    "y_Data_2 = np.dot(X_Data_2, w_tilde) + sigma_y * randn(N_Data_2)\n",
    "# The complete datasets\n",
    "Data_1 = {'X': X_Data_1,\n",
    "          'y': y_Data_1}\n",
    "Data_2 = {'X': X_Data_2,\n",
    "          'y': y_Data_2}"
   ]
  },
  {
   "cell_type": "code",
   "execution_count": 3,
   "metadata": {},
   "outputs": [],
   "source": [
    "def posterior_par(prior_par, Data, sigma_y):\n",
    "    \"\"\"Calculate posterior parameters.\n",
    "\n",
    "    Calculate posterior mean and covariance for given prior mean and\n",
    "    covariance in the par dictionary, given data and given noise\n",
    "    standard deviation.\n",
    "    \"\"\"\n",
    "    X = Data['X']\n",
    "    y = Data['y']\n",
    "    var_y = sigma_y**2\n",
    "    w_0 = prior_par['mean']\n",
    "    K_0 = prior_par['precision']\n",
    "    K_N = K_0 + 1/var_y*np.transpose(X)@X\n",
    "    w_N = np.linalg.solve(K_N, K_0)@w_0 \n",
    "    if y.size > 0:\n",
    "        w_N += 1/var_y*np.linalg.solve(K_N, np.transpose(X))@y\n",
    "    return {'mean': w_N, 'precision': K_N}"
   ]
  },
  {
   "cell_type": "code",
   "execution_count": 4,
   "metadata": {},
   "outputs": [
    {
     "name": "stdout",
     "output_type": "stream",
     "text": [
      "{'mean': array([-9.83288758, -2.12153199]), 'precision': array([[8.11367364, 7.56722265],\n",
      "       [7.56722265, 8.15489618]])}\n"
     ]
    }
   ],
   "source": [
    "print(posterior_par(prior_par, Data_2, sigma_y))"
   ]
  },
  {
   "cell_type": "code",
   "execution_count": 5,
   "metadata": {},
   "outputs": [],
   "source": [
    "def visualize_2D_gaussian(par, label, colour, N=400):\n",
    "    \"\"\"\n",
    "    Visualize the Gaussian by drawing 400 samples from \n",
    "    the distribution and showing the samples in a 2D scatter plot\n",
    "    \"\"\"\n",
    "    samples = np.random.multivariate_normal(par['mean'], np.linalg.inv(par['precision']), N)\n",
    "    plt.scatter(samples[:,0], samples[:,1], s=1, label=label, c=colour)\n",
    "    plt.plot(par['mean'][0], par['mean'][1], marker='X', c='k')\n",
    "    plt.xlim([-10,0])\n",
    "    plt.ylim([-5,5])\n",
    "    plt.xlabel('$w_1$')\n",
    "    plt.ylabel('$w_2$')\n"
   ]
  },
  {
   "cell_type": "code",
   "execution_count": 6,
   "metadata": {},
   "outputs": [
    {
     "data": {
      "image/png": "[encoded data removed]",
      "text/plain": [
       "<Figure size 432x288 with 1 Axes>"
      ]
     },
     "metadata": {
      "needs_background": "light"
     },
     "output_type": "display_data"
    }
   ],
   "source": [
    "# Question 2 part c)\n",
    "visualize_2D_gaussian(prior_par, label='$p(\\mathbf{w})$', colour='b')\n",
    "plt.legend()\n",
    "plt.show()"
   ]
  },
  {
   "cell_type": "code",
   "execution_count": 7,
   "metadata": {},
   "outputs": [],
   "source": [
    "def multivariate_gaussian_subplot(mean, cov, ax, pos, N=400):\n",
    "    xx = np.random.multivariate_normal(mean, cov, size=(N,2))\n",
    "    ax[pos].scatter(xx[:,0], xx[:,1], s=3)\n",
    "    ax[pos].scatter(mean[0], mean[1], marker=\"x\", s=20)\n",
    "    ax[pos]"
   ]
  },
  {
   "cell_type": "code",
   "execution_count": 8,
   "metadata": {},
   "outputs": [],
   "source": [
    "def get_inverse(X):\n",
    "    if (X.shape[0] == X.shape[1]):\n",
    "        return np.linalg.solve(X, np.eye(X.shape[0]))\n",
    "    raise ValueError(f'Matrix {X} has no inverse!')"
   ]
  },
  {
   "cell_type": "code",
   "execution_count": 9,
   "metadata": {},
   "outputs": [
    {
     "ename": "NameError",
     "evalue": "name 'posterior_par_1' is not defined",
     "output_type": "error",
     "traceback": [
      "\u001b[0;31m---------------------------------------------------------------------------\u001b[0m",
      "\u001b[0;31mNameError\u001b[0m                                 Traceback (most recent call last)",
      "\u001b[0;32m/var/folders/vp/xzr11zg50cgd4l7fb1g7lwf40000gn/T/ipykernel_6924/2234376778.py\u001b[0m in \u001b[0;36m<module>\u001b[0;34m\u001b[0m\n\u001b[1;32m     11\u001b[0m               \u001b[0mlabel\u001b[0m\u001b[0;34m=\u001b[0m\u001b[0;34m'$p(\\mathbf{w})$'\u001b[0m\u001b[0;34m,\u001b[0m\u001b[0;34m\u001b[0m\u001b[0;34m\u001b[0m\u001b[0m\n\u001b[1;32m     12\u001b[0m               colour='b')\n\u001b[0;32m---> 13\u001b[0;31m visualize_2D_gaussian(posterior_par_1,\n\u001b[0m\u001b[1;32m     14\u001b[0m               \u001b[0mlabel\u001b[0m\u001b[0;34m=\u001b[0m\u001b[0;34m'$p(\\mathbf{w}|\\mathcal{D}_1)$'\u001b[0m\u001b[0;34m,\u001b[0m\u001b[0;34m\u001b[0m\u001b[0;34m\u001b[0m\u001b[0m\n\u001b[1;32m     15\u001b[0m               colour='r')\n",
      "\u001b[0;31mNameError\u001b[0m: name 'posterior_par_1' is not defined"
     ]
    },
    {
     "data": {
      "image/png": "[encoded data removed]",
      "text/plain": [
       "<Figure size 432x288 with 1 Axes>"
      ]
     },
     "metadata": {
      "needs_background": "light"
     },
     "output_type": "display_data"
    }
   ],
   "source": [
    "# Question 2 part d)\n",
    "# fig, ax = plt.subplots(2,2, figsize=(10,10))\n",
    "all_data = {'X': np.concatenate((Data_1['X'], Data_2['X'])), 'y': np.concatenate((Data_1['y'], Data_2['y']))}\n",
    "post_par_data_1 = posterior_par(prior_par, Data_1, sigma_y)\n",
    "post_par_data_2 = posterior_par(prior_par, Data_2, sigma_y)\n",
    "post_par_data_1_2 = posterior_par(prior_par, all_data, sigma_y)\n",
    "\n",
    "plt.figure(2)\n",
    "plt.clf()\n",
    "visualize_2D_gaussian(prior_par,\n",
    "              label='$p(\\mathbf{w})$',\n",
    "              colour='b')\n",
    "visualize_2D_gaussian(posterior_par_1,\n",
    "              label='$p(\\mathbf{w}|\\mathcal{D}_1)$',\n",
    "              colour='r')\n",
    "visualize_2D_gaussian(posterior_par_2,\n",
    "              label='$p(\\mathbf{w}|\\mathcal{D}_2)$',\n",
    "              colour='g')\n",
    "visualize_2D_gaussian(posterior_par_1_2,\n",
    "              label='$p(\\mathbf{w}|\\mathcal{D}_1,\\mathcal{D}_2)$',\n",
    "              colour='y')\n",
    "plt.legend()\n",
    "plt.show()\n",
    "\n",
    "# precision_data_1 = post_par_data_1['precision']\n",
    "# cov_data_1 = get_inverse(precision_data_1)\n",
    "# multivariate_gaussian_subplot(post_par_data_1['mean'], cov_data_1, ax, (0,0))\n",
    "# visualize_2D_gaussian(post_par_data_1, '$p(\\mathbf{w}|\\mathcal{D}_1)$', 'r' )\n",
    "# plt.show()\n",
    "\n",
    "\n",
    "\n",
    "# post_par_data_2 = posterior_par(prior_par, Data_2, sigma_y)\n",
    "# precision_data_2 = post_par_data_2['precision']\n",
    "# cov_data_2 = get_inverse(precision_data_2)\n",
    "# multivariate_gaussian_subplot(post_par_data_2['mean'], cov_data_2, ax, (0,1))\n",
    "\n",
    "# all_data = {'X': np.concatenate((Data_1['X'], Data_2['X'])), 'y': np.concatenate((Data_1['y'], Data_2['y']))}\n",
    "# post_par_all_data = posterior_par(prior_par, all_data, sigma_y)\n",
    "# precision_all_data = post_par_all_data['precision']\n",
    "# cov_all_data = get_inverse(precision_all_data)\n",
    "# multivariate_gaussian_subplot(post_par_all_data['mean'], cov_all_data, ax, (1,0))\n",
    "\n",
    "# cov_prior = get_inverse(prior_par['precision'])\n",
    "# multivariate_gaussian_subplot(prior_par['mean'], cov_prior, ax, (1,1))"
   ]
  },
  {
   "cell_type": "code",
   "execution_count": null,
   "metadata": {},
   "outputs": [
    {
     "name": "stdout",
     "output_type": "stream",
     "text": [
      "Values after using new_prior and seeing D2:\n",
      "{'mean': array([-9.24132328, -1.53527831]), 'new_cov': array([[ 0.18137642, -0.10496254],\n",
      "       [-0.10496254,  0.14445116]])}\n",
      "Values after seeing D1 and D2\n",
      "{'mean': array([-4.50107999e+00, -3.50244718e-03]), 'cov': array([[ 0.12602438, -0.09173353],\n",
      "       [-0.09173353,  0.15702391]])}\n"
     ]
    }
   ],
   "source": [
    "def question2_e():\n",
    "    new_prior = post_par_data_1\n",
    "    new_posterior_par = posterior_par(new_prior, Data_2, sigma_y)\n",
    "    new_mean = new_posterior_par['mean']\n",
    "    new_cov = np.linalg.solve(new_posterior_par['precision'], np.eye(new_posterior_par['precision'].shape[0]))\n",
    "    print({'mean': new_mean, 'new_cov': new_cov})\n",
    "\n",
    "# compare resulting values\n",
    "print(\"Values after using new_prior and seeing D2:\")\n",
    "question2_e()\n",
    "print(\"Values after seeing D1 and D2\")\n",
    "print({'mean': post_par_all_data['mean'], 'cov': cov_all_data})"
   ]
  },
  {
   "cell_type": "code",
   "execution_count": null,
   "metadata": {},
   "outputs": [],
   "source": [
    "# fig, ax = plt.subplots(2, 2)"
   ]
  },
  {
   "cell_type": "code",
   "execution_count": null,
   "metadata": {},
   "outputs": [
    {
     "data": {
      "image/png": "[encoded data removed]",
      "text/plain": [
       "<Figure size 432x288 with 1 Axes>"
      ]
     },
     "metadata": {
      "needs_background": "light"
     },
     "output_type": "display_data"
    },
    {
     "ename": "ValueError",
     "evalue": "mean must be 1 dimensional",
     "output_type": "error",
     "traceback": [
      "\u001b[0;31m---------------------------------------------------------------------------\u001b[0m",
      "\u001b[0;31mValueError\u001b[0m                                Traceback (most recent call last)",
      "\u001b[0;32m/var/folders/vp/xzr11zg50cgd4l7fb1g7lwf40000gn/T/ipykernel_6902/486162147.py\u001b[0m in \u001b[0;36m<module>\u001b[0;34m\u001b[0m\n\u001b[1;32m     33\u001b[0m               \u001b[0mlabel\u001b[0m\u001b[0;34m=\u001b[0m\u001b[0;34m'$p(\\mathbf{w})$'\u001b[0m\u001b[0;34m,\u001b[0m\u001b[0;34m\u001b[0m\u001b[0;34m\u001b[0m\u001b[0m\n\u001b[1;32m     34\u001b[0m               colour='b')\n\u001b[0;32m---> 35\u001b[0;31m visualize_2D_gaussian(posterior_par_nodat,\n\u001b[0m\u001b[1;32m     36\u001b[0m               \u001b[0mlabel\u001b[0m\u001b[0;34m=\u001b[0m\u001b[0;34m'$p(\\mathbf{w}|\\{\\})$'\u001b[0m\u001b[0;34m,\u001b[0m\u001b[0;34m\u001b[0m\u001b[0;34m\u001b[0m\u001b[0m\n\u001b[1;32m     37\u001b[0m               colour='c')\n",
      "\u001b[0;32m/var/folders/vp/xzr11zg50cgd4l7fb1g7lwf40000gn/T/ipykernel_6902/2290195766.py\u001b[0m in \u001b[0;36mvisualize_2D_gaussian\u001b[0;34m(par, label, colour, N)\u001b[0m\n\u001b[1;32m      4\u001b[0m     \u001b[0mthe\u001b[0m \u001b[0mdistribution\u001b[0m \u001b[0;32mand\u001b[0m \u001b[0mshowing\u001b[0m \u001b[0mthe\u001b[0m \u001b[0msamples\u001b[0m \u001b[0;32min\u001b[0m \u001b[0ma\u001b[0m \u001b[0;36m2\u001b[0m\u001b[0mD\u001b[0m \u001b[0mscatter\u001b[0m \u001b[0mplot\u001b[0m\u001b[0;34m\u001b[0m\u001b[0;34m\u001b[0m\u001b[0m\n\u001b[1;32m      5\u001b[0m     \"\"\"\n\u001b[0;32m----> 6\u001b[0;31m     \u001b[0msamples\u001b[0m \u001b[0;34m=\u001b[0m \u001b[0mnp\u001b[0m\u001b[0;34m.\u001b[0m\u001b[0mrandom\u001b[0m\u001b[0;34m.\u001b[0m\u001b[0mmultivariate_normal\u001b[0m\u001b[0;34m(\u001b[0m\u001b[0mpar\u001b[0m\u001b[0;34m[\u001b[0m\u001b[0;34m'mean'\u001b[0m\u001b[0;34m]\u001b[0m\u001b[0;34m,\u001b[0m \u001b[0mnp\u001b[0m\u001b[0;34m.\u001b[0m\u001b[0mlinalg\u001b[0m\u001b[0;34m.\u001b[0m\u001b[0minv\u001b[0m\u001b[0;34m(\u001b[0m\u001b[0mpar\u001b[0m\u001b[0;34m[\u001b[0m\u001b[0;34m'precision'\u001b[0m\u001b[0;34m]\u001b[0m\u001b[0;34m)\u001b[0m\u001b[0;34m,\u001b[0m \u001b[0mN\u001b[0m\u001b[0;34m)\u001b[0m\u001b[0;34m\u001b[0m\u001b[0;34m\u001b[0m\u001b[0m\n\u001b[0m\u001b[1;32m      7\u001b[0m     \u001b[0mplt\u001b[0m\u001b[0;34m.\u001b[0m\u001b[0mscatter\u001b[0m\u001b[0;34m(\u001b[0m\u001b[0msamples\u001b[0m\u001b[0;34m[\u001b[0m\u001b[0;34m:\u001b[0m\u001b[0;34m,\u001b[0m\u001b[0;36m0\u001b[0m\u001b[0;34m]\u001b[0m\u001b[0;34m,\u001b[0m \u001b[0msamples\u001b[0m\u001b[0;34m[\u001b[0m\u001b[0;34m:\u001b[0m\u001b[0;34m,\u001b[0m\u001b[0;36m1\u001b[0m\u001b[0;34m]\u001b[0m\u001b[0;34m,\u001b[0m \u001b[0ms\u001b[0m\u001b[0;34m=\u001b[0m\u001b[0;36m1\u001b[0m\u001b[0;34m,\u001b[0m \u001b[0mlabel\u001b[0m\u001b[0;34m=\u001b[0m\u001b[0mlabel\u001b[0m\u001b[0;34m,\u001b[0m \u001b[0mc\u001b[0m\u001b[0;34m=\u001b[0m\u001b[0mcolour\u001b[0m\u001b[0;34m)\u001b[0m\u001b[0;34m\u001b[0m\u001b[0;34m\u001b[0m\u001b[0m\n\u001b[1;32m      8\u001b[0m     \u001b[0mplt\u001b[0m\u001b[0;34m.\u001b[0m\u001b[0mplot\u001b[0m\u001b[0;34m(\u001b[0m\u001b[0mpar\u001b[0m\u001b[0;34m[\u001b[0m\u001b[0;34m'mean'\u001b[0m\u001b[0;34m]\u001b[0m\u001b[0;34m[\u001b[0m\u001b[0;36m0\u001b[0m\u001b[0;34m]\u001b[0m\u001b[0;34m,\u001b[0m \u001b[0mpar\u001b[0m\u001b[0;34m[\u001b[0m\u001b[0;34m'mean'\u001b[0m\u001b[0;34m]\u001b[0m\u001b[0;34m[\u001b[0m\u001b[0;36m1\u001b[0m\u001b[0;34m]\u001b[0m\u001b[0;34m,\u001b[0m \u001b[0mmarker\u001b[0m\u001b[0;34m=\u001b[0m\u001b[0;34m'X'\u001b[0m\u001b[0;34m,\u001b[0m \u001b[0mc\u001b[0m\u001b[0;34m=\u001b[0m\u001b[0;34m'k'\u001b[0m\u001b[0;34m)\u001b[0m\u001b[0;34m\u001b[0m\u001b[0;34m\u001b[0m\u001b[0m\n",
      "\u001b[0;32mmtrand.pyx\u001b[0m in \u001b[0;36mnumpy.random.mtrand.RandomState.multivariate_normal\u001b[0;34m()\u001b[0m\n",
      "\u001b[0;31mValueError\u001b[0m: mean must be 1 dimensional"
     ]
    },
    {
     "data": {
      "image/png": "[encoded data removed]",
      "text/plain": [
       "<Figure size 432x288 with 1 Axes>"
      ]
     },
     "metadata": {
      "needs_background": "light"
     },
     "output_type": "display_data"
    }
   ],
   "source": [
    "# We combine datasets 1 and 2 by stacking the matrices / vectors\n",
    "Data_1_2 = {'X': np.vstack((X_Data_1, X_Data_2)),\n",
    "            'y': np.concatenate((y_Data_1, y_Data_2))}\n",
    "# Calculate posterior parameters\n",
    "posterior_par_1 = posterior_par(prior_par, Data_1, sigma_y)\n",
    "posterior_par_2 = posterior_par(prior_par, Data_2, sigma_y)\n",
    "posterior_par_1_2 = posterior_par(prior_par, Data_1_2, sigma_y)\n",
    "# Visualise prior and posterior distributions\n",
    "plt.figure(2)\n",
    "plt.clf()\n",
    "visualize_2D_gaussian(prior_par,\n",
    "              label='$p(\\mathbf{w})$',\n",
    "              colour='b')\n",
    "visualize_2D_gaussian(posterior_par_1,\n",
    "              label='$p(\\mathbf{w}|\\mathcal{D}_1)$',\n",
    "              colour='r')\n",
    "visualize_2D_gaussian(posterior_par_2,\n",
    "              label='$p(\\mathbf{w}|\\mathcal{D}_2)$',\n",
    "              colour='g')\n",
    "visualize_2D_gaussian(posterior_par_1_2,\n",
    "              label='$p(\\mathbf{w}|\\mathcal{D}_1,\\mathcal{D}_2)$',\n",
    "              colour='y')\n",
    "plt.legend()\n",
    "plt.show()\n",
    "# Here we construct an empty dataset\n",
    "Data_nodat = {'X': np.empty([0, D]),\n",
    "              'y': np.empty([0, 1])}\n",
    "# The posterior for an empty dataset will be the prior\n",
    "plt.figure(3)\n",
    "plt.clf()\n",
    "posterior_par_nodat = posterior_par(prior_par, Data_nodat, sigma_y)\n",
    "visualize_2D_gaussian(prior_par,\n",
    "              label='$p(\\mathbf{w})$',\n",
    "              colour='b')\n",
    "visualize_2D_gaussian(posterior_par_nodat,\n",
    "              label='$p(\\mathbf{w}|\\{\\})$',\n",
    "              colour='c')\n",
    "plt.legend()\n",
    "plt.show()"
   ]
  },
  {
   "cell_type": "code",
   "execution_count": null,
   "metadata": {},
   "outputs": [],
   "source": []
  }
 ],
 "metadata": {
  "interpreter": {
   "hash": "c9df3a8e963bb936fec972be0f37ee27dd765c2ec402086234430ce5e05a38c9"
  },
  "kernelspec": {
   "display_name": "Python 3.9.7 64-bit ('mlpr': conda)",
   "name": "python3"
  },
  "language_info": {
   "codemirror_mode": {
    "name": "ipython",
    "version": 3
   },
   "file_extension": ".py",
   "mimetype": "text/x-python",
   "name": "python",
   "nbconvert_exporter": "python",
   "pygments_lexer": "ipython3",
   "version": "3.9.7"
  },
  "orig_nbformat": 4
 },
 "nbformat": 4,
 "nbformat_minor": 2
}
