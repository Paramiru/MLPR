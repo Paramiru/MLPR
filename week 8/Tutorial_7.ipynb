{
 "cells": [
  {
   "cell_type": "code",
   "execution_count": 26,
   "metadata": {},
   "outputs": [],
   "source": [
    "import numpy as np\n",
    "\n",
    "def Theta(a):\n",
    "    return a >= 0 \n",
    "\n",
    "def h1(X):\n",
    "    \"\"\"Classifies whether the second feature is greater or equal to first.\n",
    "\n",
    "    Input:\n",
    "         X: N,D design matrix of input features\n",
    "\n",
    "    Output:\n",
    "        yy: N, output 1 if second feature greater, 0 otherwise\n",
    "    \"\"\"\n",
    "    w11 = -1\n",
    "    w12 = 1\n",
    "    b1 = 0\n",
    "    ww1 = np.array([w11, w12])\n",
    "    # `aa` is a linear combination of the inputs\n",
    "    aa = X[:, :2] @ ww1 + b1\n",
    "    # `yy` is the output after hard thresholding\n",
    "    yy = Theta(aa)\n",
    "    print(yy.shape)\n",
    "    return yy.astype(int)"
   ]
  },
  {
   "cell_type": "code",
   "execution_count": 27,
   "metadata": {},
   "outputs": [
    {
     "name": "stdout",
     "output_type": "stream",
     "text": [
      "(6,)\n",
      "[1 0 1 1 0 1]\n"
     ]
    }
   ],
   "source": [
    "X = np.array([[1, 1], [1, 0.99], [-0.99, 1], [-0.99, 0.98], [-0.99, -1], [-0.99, -0.98]])\n",
    "print(h1(X))"
   ]
  },
  {
   "cell_type": "code",
   "execution_count": null,
   "metadata": {},
   "outputs": [
    {
     "data": {
      "text/plain": [
       "array([[-1.],\n",
       "       [ 1.],\n",
       "       [ 0.]])"
      ]
     },
     "execution_count": 18,
     "metadata": {},
     "output_type": "execute_result"
    }
   ],
   "source": [
    "N, D = 5, 3\n",
    "ww1 = np.array([-1, 1])\n",
    "zeros = np.zeros((D - 2))\n",
    "ww1 = np.concatenate((ww1, zeros))[:,None]\n",
    "# print(np.tile(ww1, (1, N)))\n",
    "ww1\n"
   ]
  }
 ],
 "metadata": {
  "interpreter": {
   "hash": "c9df3a8e963bb936fec972be0f37ee27dd765c2ec402086234430ce5e05a38c9"
  },
  "kernelspec": {
   "display_name": "Python 3.9.7 64-bit ('mlpr': conda)",
   "language": "python",
   "name": "python3"
  },
  "language_info": {
   "codemirror_mode": {
    "name": "ipython",
    "version": 3
   },
   "file_extension": ".py",
   "mimetype": "text/x-python",
   "name": "python",
   "nbconvert_exporter": "python",
   "pygments_lexer": "ipython3",
   "version": "3.9.7"
  },
  "orig_nbformat": 4
 },
 "nbformat": 4,
 "nbformat_minor": 2
}
