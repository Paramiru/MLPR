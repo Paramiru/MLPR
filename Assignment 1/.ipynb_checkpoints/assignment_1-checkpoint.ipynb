{
 "cells": [
  {
   "cell_type": "code",
   "execution_count": 3,
   "id": "august-supply",
   "metadata": {},
   "outputs": [],
   "source": [
    "import numpy as np\n",
    "import matplotlib.pyplot as plt"
   ]
  },
  {
   "cell_type": "markdown",
   "id": "dominican-chart",
   "metadata": {},
   "source": [
    "# Question 1: Getting started"
   ]
  },
  {
   "cell_type": "markdown",
   "id": "appointed-retrieval",
   "metadata": {},
   "source": [
    "## Part a"
   ]
  },
  {
   "cell_type": "code",
   "execution_count": 4,
   "id": "acoustic-portland",
   "metadata": {},
   "outputs": [],
   "source": [
    "amp_data = np.load(\"amp_data.npz\")[\"amp_data\"]"
   ]
  },
  {
   "cell_type": "code",
   "execution_count": 6,
   "id": "designed-beaver",
   "metadata": {},
   "outputs": [
    {
     "data": {
      "image/png": "[encoded data removed]",
      "text/plain": [
       "<Figure size 432x288 with 1 Axes>"
      ]
     },
     "metadata": {
      "needs_background": "light"
     },
     "output_type": "display_data"
    }
   ],
   "source": [
    "\"\"\"Plot a line graph showing the sequence in amp_data\"\"\"\n",
    "def plot_line_graph(data: np.array):\n",
    "    tt = np.arange(len(data))\n",
    "    plt.clf()\n",
    "    plt.plot(tt, data)\n",
    "    plt.show()\n",
    "plot_line_graph(amp_data)"
   ]
  },
  {
   "cell_type": "code",
   "execution_count": 12,
   "id": "meaningful-genetics",
   "metadata": {},
   "outputs": [
    {
     "data": {
      "image/png": "[encoded data removed]",
      "text/plain": [
       "<Figure size 432x288 with 1 Axes>"
      ]
     },
     "metadata": {
      "needs_background": "light"
     },
     "output_type": "display_data"
    }
   ],
   "source": [
    "def plot_amplitude_histogram(data, bins=100):\n",
    "    bins = len(data) / 1000 if (bins == 100) else bins\n",
    "    data = np.array(data)\n",
    "    plt.clf()\n",
    "    plt.hist(data, bins=100)\n",
    "    plt.show()\n",
    "plot_amplitude_histogram(amp_data)"
   ]
  },
  {
   "cell_type": "markdown",
   "id": "stopped-delaware",
   "metadata": {},
   "source": [
    "## Part b"
   ]
  },
  {
   "cell_type": "code",
   "execution_count": 28,
   "id": "8b611592",
   "metadata": {},
   "outputs": [],
   "source": [
    "def split_array(arr):\n",
    "    size = len(arr)\n",
    "    train_amount, val_amount, test_amount = 0.7, 0.15, 0.15\n",
    "    train_split = int(size * train_amount)\n",
    "    val_split = int(size * val_amount) + train_split\n",
    "    \n",
    "    X_shuf_train = arr[:train_split][:, :20]\n",
    "    y_shuf_train = arr[:train_split][:, 20]\n",
    "    \n",
    "    X_shuf_val = arr[train_split:val_split][:, :20]\n",
    "    y_shuf_val = arr[train_split:val_split][:, 20]\n",
    "    \n",
    "    X_shuf_test = arr[val_split:][:, :20]\n",
    "    y_shuf_test = arr[val_split:][:, 20]\n",
    "    \n",
    "    return [X_shuf_train, y_shuf_train, X_shuf_val, y_shuf_val, X_shuf_test, y_shuf_test]\n",
    "    \n",
    "\n",
    "def create_six_arrays(data):\n",
    "    data = np.array(data)[:, None]\n",
    "    \"\"\"remove last values so it can be mapped into a Cx21 matrix\"\"\"\n",
    "    values_to_remove = data.shape[0] % 21\n",
    "    data = data[:-values_to_remove].reshape(-1, 21)\n",
    "    \"\"\"Shuffle the rows of the matrix\"\"\"\n",
    "    np.random.shuffle(data)\n",
    "    return split_array(data)\n",
    "    "
   ]
  },
  {
   "cell_type": "code",
   "execution_count": 30,
   "id": "3d0ec0de",
   "metadata": {},
   "outputs": [
    {
     "data": {
      "text/plain": [
       "[array([[ 5.34667969e-02,  5.82275391e-02,  5.97839355e-02, ...,\n",
       "         -2.78625488e-02, -2.97241211e-02, -2.52380371e-02],\n",
       "        [-3.47900391e-03, -3.44848633e-03, -3.90625000e-03, ...,\n",
       "         -8.42285156e-03, -8.60595703e-03, -8.36181641e-03],\n",
       "        [ 2.80761719e-03,  2.53295898e-03,  2.31933594e-03, ...,\n",
       "         -3.05175781e-05, -1.52587891e-04, -1.83105469e-04],\n",
       "        ...,\n",
       "        [-1.33972168e-02, -1.25732422e-02, -1.12304688e-02, ...,\n",
       "          9.27734375e-03,  7.65991211e-03,  6.22558594e-03],\n",
       "        [-2.50244141e-02, -2.57568359e-02, -2.64892578e-02, ...,\n",
       "         -7.50732422e-03, -6.50024414e-03, -5.37109375e-03],\n",
       "        [ 3.14331055e-02,  3.54919434e-02,  3.91845703e-02, ...,\n",
       "          9.79614258e-02,  9.63745117e-02,  9.44519043e-02]]),\n",
       " array([-0.02090454, -0.00823975, -0.00030518, ...,  0.00473022,\n",
       "        -0.00408936,  0.0925293 ]),\n",
       " array([[ 7.01904297e-04, -6.71386719e-04, -2.01416016e-03, ...,\n",
       "         -4.18090820e-03, -5.55419922e-03, -7.65991211e-03],\n",
       "        [-1.03759766e-03, -1.09863281e-03, -1.12915039e-03, ...,\n",
       "         -1.61743164e-03, -1.61743164e-03, -1.70898438e-03],\n",
       "        [ 2.09045410e-02,  1.92260742e-02,  1.80358887e-02, ...,\n",
       "          3.78417969e-03,  3.20434570e-03,  2.28881836e-03],\n",
       "        ...,\n",
       "        [-1.65313721e-01, -1.93603516e-01, -2.02697754e-01, ...,\n",
       "         -1.09283447e-01, -1.13861084e-01, -1.15783691e-01],\n",
       "        [ 1.26953125e-02,  1.43432617e-02,  1.61132812e-02, ...,\n",
       "          2.63671875e-02,  2.48413086e-02,  2.33764648e-02],\n",
       "        [-1.15966797e-03, -7.62939453e-04,  6.10351562e-05, ...,\n",
       "          3.26538086e-03,  3.44848633e-03,  3.11279297e-03]]),\n",
       " array([-0.01000977, -0.00158691,  0.0017395 , ..., -0.11535645,\n",
       "         0.02163696,  0.00296021]),\n",
       " array([[-0.02139282, -0.01367188, -0.00723267, ..., -0.00485229,\n",
       "         -0.00341797, -0.00259399],\n",
       "        [-0.00845337, -0.00857544, -0.00866699, ..., -0.00463867,\n",
       "         -0.00393677, -0.00326538],\n",
       "        [-0.02981567, -0.0335083 , -0.03564453, ..., -0.04537964,\n",
       "         -0.04373169, -0.03997803],\n",
       "        ...,\n",
       "        [-0.02618408, -0.02694702, -0.02767944, ..., -0.03179932,\n",
       "         -0.02923584, -0.02685547],\n",
       "        [-0.01690674, -0.01712036, -0.0171814 , ..., -0.01321411,\n",
       "         -0.01309204, -0.01296997],\n",
       "        [-0.00671387, -0.00701904, -0.00762939, ..., -0.01657104,\n",
       "         -0.01712036, -0.0171814 ]]),\n",
       " array([-0.00186157, -0.00250244, -0.03582764, ..., -0.02453613,\n",
       "        -0.01275635, -0.01712036])]"
      ]
     },
     "execution_count": 30,
     "metadata": {},
     "output_type": "execute_result"
    }
   ],
   "source": [
    "arrays = create_six_arrays(amp_data)\n",
    "arrays"
   ]
  },
  {
   "cell_type": "markdown",
   "id": "breathing-thanks",
   "metadata": {},
   "source": [
    "# Question 2: Curve fitting"
   ]
  },
  {
   "cell_type": "markdown",
   "id": "measured-heavy",
   "metadata": {},
   "source": [
    "## Part a\n",
    "Code for a plot that shows 20 training points, a test point, a straight line fit, and a quartic fit."
   ]
  },
  {
   "cell_type": "code",
   "execution_count": 60,
   "id": "simple-radius",
   "metadata": {},
   "outputs": [],
   "source": [
    "step_size = 1/20\n",
    "xx = np.arange(0, 1, step_size)[:, None]"
   ]
  },
  {
   "cell_type": "code",
   "execution_count": 61,
   "id": "persistent-commission",
   "metadata": {},
   "outputs": [],
   "source": [
    "yy = arrays[0][0]\n",
    "test_point = arrays[1][0]"
   ]
  },
  {
   "cell_type": "code",
   "execution_count": 62,
   "id": "aa7f0b72",
   "metadata": {},
   "outputs": [
    {
     "name": "stdout",
     "output_type": "stream",
     "text": [
      "[[0.   1.  ]\n",
      " [0.05 1.  ]\n",
      " [0.1  1.  ]\n",
      " [0.15 1.  ]\n",
      " [0.2  1.  ]\n",
      " [0.25 1.  ]\n",
      " [0.3  1.  ]\n",
      " [0.35 1.  ]\n",
      " [0.4  1.  ]\n",
      " [0.45 1.  ]\n",
      " [0.5  1.  ]\n",
      " [0.55 1.  ]\n",
      " [0.6  1.  ]\n",
      " [0.65 1.  ]\n",
      " [0.7  1.  ]\n",
      " [0.75 1.  ]\n",
      " [0.8  1.  ]\n",
      " [0.85 1.  ]\n",
      " [0.9  1.  ]\n",
      " [0.95 1.  ]]\n"
     ]
    }
   ],
   "source": [
    "linear_xx = np.hstack([xx, np.ones(xx.shape[0])[:, None]])\n",
    "print(linear_xx)"
   ]
  },
  {
   "cell_type": "code",
   "execution_count": 66,
   "id": "conditional-weapon",
   "metadata": {},
   "outputs": [
    {
     "data": {
      "image/png": "[encoded data removed]",
      "text/plain": [
       "<Figure size 432x288 with 1 Axes>"
      ]
     },
     "metadata": {
      "needs_background": "light"
     },
     "output_type": "display_data"
    }
   ],
   "source": [
    "linear_weights = np.linalg.lstsq(linear_xx, yy, rcond=None)[0]\n",
    "\n",
    "quartic_xx = xx ** np.arange(5)\n",
    "quartic_weights = np.linalg.lstsq(quartic_xx, yy, rcond=None)[0]\n",
    "\n",
    "\"\"\"Add prediction to the plot by using 21 times from 0 to 1.05 with step size 1/20\"\"\"\n",
    "times = np.arange(0, 1 + step_size, step_size)\n",
    "quartic_xx_with_prediction = times[:,None] ** np.arange(5)\n",
    "linear_xx_with_prediction = np.vstack([times, np.ones(len(times))]).T\n",
    "\n",
    "plt.plot(xx, yy, label=\"Original data\")\n",
    "plt.scatter(1, test_point, color=\"red\", label=\"Last datapoint\")\n",
    "\"\"\"\n",
    "Change linear/quartic_xx to linear/quartic_xx_with_prediction\n",
    "and xx to times for getting the prediction in the plot \n",
    "\"\"\"\n",
    "plt.plot(xx, np.dot(linear_xx, linear_weights), color=\"red\", label=\"Straight line fit\")\n",
    "# plt.plot(times, np.dot(linear_xx_with_prediction, linear_weights), color=\"red\", label=\"Straight line fit\")\n",
    "plt.plot(xx, np.dot(quartic_xx, quartic_weights), color=\"orange\", label=\"Quartic fit\")\n",
    "# plt.plot(times, np.dot(quartic_xx_with_prediction, quartic_weights), color=\"orange\", label=\"Quartic fit\")\n",
    "\n",
    "plt.legend()\n",
    "plt.show()"
   ]
  },
  {
   "cell_type": "markdown",
   "id": "choice-produce",
   "metadata": {},
   "source": [
    "## Part b"
   ]
  },
  {
   "cell_type": "markdown",
   "id": "surprising-acrobat",
   "metadata": {},
   "source": [
    "We put equal weight to each residual, no matter how long it happened in the past. Closer datapoints are more important and will lose importance if we look too much into the past. A longer context for the quartic fit will be better as this will prevent overfitting, instead of using just two datapoints."
   ]
  },
  {
   "cell_type": "markdown",
   "id": "conventional-mexico",
   "metadata": {},
   "source": [
    "## Part c"
   ]
  },
  {
   "cell_type": "markdown",
   "id": "announced-baltimore",
   "metadata": {},
   "source": [
    "After trying third, fourth and fifth oder polynomial a third order polynomial with a bias fits the data best assuming a context length of 20"
   ]
  },
  {
   "cell_type": "markdown",
   "id": "warming-patrol",
   "metadata": {},
   "source": [
    "# Question 3"
   ]
  },
  {
   "cell_type": "markdown",
   "id": "internal-aurora",
   "metadata": {},
   "source": [
    "## Part b i)"
   ]
  },
  {
   "cell_type": "code",
   "execution_count": 71,
   "id": "decimal-victim",
   "metadata": {},
   "outputs": [
    {
     "name": "stdout",
     "output_type": "stream",
     "text": [
      "[[ 0.0534668 ]\n",
      " [ 0.05822754]\n",
      " [ 0.05978394]\n",
      " [ 0.06286621]\n",
      " [ 0.06661987]\n",
      " [ 0.07235718]\n",
      " [ 0.08230591]\n",
      " [ 0.09176636]\n",
      " [ 0.09820557]\n",
      " [ 0.10092163]\n",
      " [ 0.09765625]\n",
      " [ 0.08630371]\n",
      " [ 0.06719971]\n",
      " [ 0.04174805]\n",
      " [ 0.01483154]\n",
      " [-0.00610352]\n",
      " [-0.01919556]\n",
      " [-0.02786255]\n",
      " [-0.02972412]\n",
      " [-0.02523804]]\n"
     ]
    }
   ],
   "source": [
    "X_shuf_train = arrays[0]\n",
    "\n",
    "def Phi(C, K):\n",
    "    return C ** np.arange(K)\n",
    "\n",
    "C = X_shuf_train[0][:, None]\n",
    "K = 20\n",
    "design = Phi(C, K)"
   ]
  },
  {
   "cell_type": "markdown",
   "id": "according-button",
   "metadata": {},
   "source": [
    "## Part b ii)"
   ]
  },
  {
   "cell_type": "code",
   "execution_count": 327,
   "id": "massive-coffee",
   "metadata": {},
   "outputs": [],
   "source": [
    "def make_vv(C, K):\n",
    "    phi_matrix = Phi(C, K)\n",
    "    phi_t_1 = Phi(np.ones((1, K)), K).T\n",
    "    return phi_matrix @ np.linalg.inv((phi_matrix.T @ phi_matrix).T) @ phi_t_1"
   ]
  },
  {
   "cell_type": "code",
   "execution_count": 328,
   "id": "limiting-relation",
   "metadata": {},
   "outputs": [
    {
     "data": {
      "text/plain": [
       "(20, 1)"
      ]
     },
     "execution_count": 328,
     "metadata": {},
     "output_type": "execute_result"
    }
   ],
   "source": [
    "v = make_vv(C, K)\n",
    "v.shape"
   ]
  },
  {
   "cell_type": "markdown",
   "id": "brutal-alias",
   "metadata": {},
   "source": [
    "## Part b iii)"
   ]
  },
  {
   "cell_type": "code",
   "execution_count": 329,
   "id": "important-queens",
   "metadata": {},
   "outputs": [
    {
     "data": {
      "text/plain": [
       "(20, 2)"
      ]
     },
     "execution_count": 329,
     "metadata": {},
     "output_type": "execute_result"
    }
   ],
   "source": [
    "linear_X.shape"
   ]
  },
  {
   "cell_type": "code",
   "execution_count": 333,
   "id": "following-jungle",
   "metadata": {},
   "outputs": [
    {
     "data": {
      "text/plain": [
       "(20, 1)"
      ]
     },
     "execution_count": 333,
     "metadata": {},
     "output_type": "execute_result"
    }
   ],
   "source": [
    "v.shape"
   ]
  },
  {
   "cell_type": "code",
   "execution_count": 332,
   "id": "aquatic-arcade",
   "metadata": {},
   "outputs": [
    {
     "data": {
      "text/plain": [
       "array([[-0.00241295],\n",
       "       [ 0.00899222]])"
      ]
     },
     "execution_count": 332,
     "metadata": {},
     "output_type": "execute_result"
    }
   ],
   "source": [
    "linear_weights"
   ]
  },
  {
   "cell_type": "code",
   "execution_count": 342,
   "id": "horizontal-celebrity",
   "metadata": {},
   "outputs": [
    {
     "name": "stdout",
     "output_type": "stream",
     "text": [
      "[-52.86193366] [0.00657927]\n"
     ]
    }
   ],
   "source": [
    "X = array[0][:, None]\n",
    "K = 2\n",
    "v = make_vv(X, K)\n",
    "step_size = 0.05\n",
    "x = np.arange(0, 1.0, step_size)\n",
    "prediction_V = v.T@x\n",
    "\n",
    "linear_X = np.array([x**power for power in range(K)]).T\n",
    "linear_weights = np.linalg.lstsq(linear_X\n",
    "                          , X, rcond=None)[0]\n",
    "print(prediction_V, np.dot(np.ones(K),linear_weights))"
   ]
  },
  {
   "cell_type": "code",
   "execution_count": null,
   "id": "danish-correspondence",
   "metadata": {},
   "outputs": [],
   "source": []
  }
 ],
 "metadata": {
  "kernelspec": {
   "display_name": "Python 3",
   "language": "python",
   "name": "python3"
  },
  "language_info": {
   "codemirror_mode": {
    "name": "ipython",
    "version": 3
   },
   "file_extension": ".py",
   "mimetype": "text/x-python",
   "name": "python",
   "nbconvert_exporter": "python",
   "pygments_lexer": "ipython3",
   "version": "3.8.8"
  }
 },
 "nbformat": 4,
 "nbformat_minor": 5
}
