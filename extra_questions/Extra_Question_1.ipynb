{
 "cells": [
  {
   "cell_type": "code",
   "execution_count": 28,
   "metadata": {},
   "outputs": [],
   "source": [
    "import numpy as np\n",
    "import matplotlib.pyplot as plt\n",
    "\n",
    "N = 25\n",
    "sigma = 0.1\n",
    "\n",
    "X_1 = (np.random.randn(N, 2) * sigma) + np.array([-5, -5])\n",
    "X_2 = (np.random.randn(N, 2) * sigma) + np.array([5, 5])\n",
    "X_3 = (np.random.randn(N, 2) * sigma) + np.array([-5, 5])\n",
    "X_4 = (np.random.randn(N, 2) * sigma) + np.array([5, -5])\n",
    "\n",
    "Y_0 = np.vstack((X_1, X_2))\n",
    "Y_1 = np.vstack((X_3, X_4))\n",
    "\n",
    "# plt.plot(Y_0[:, 0], Y_0[:, 1], '.')\n",
    "# plt.plot(Y_1[:, 0], Y_1[:, 1], '.')\n",
    "# plt.show()"
   ]
  },
  {
   "cell_type": "code",
   "execution_count": 29,
   "metadata": {},
   "outputs": [
    {
     "name": "stdout",
     "output_type": "stream",
     "text": [
      "True\n"
     ]
    }
   ],
   "source": [
    "Sigma = np.hstack((Y_0.prod(axis=1), Y_1.prod(axis=1)))[:, None]\n",
    "# Add bias\n",
    "Sigma_b = np.column_stack((Sigma, np.ones((N*4, 1))))\n",
    "labels = np.row_stack((np.zeros((N*2, 1)), np.ones((N*2, 1))))\n",
    "w = np.linalg.lstsq(Sigma_b, labels, rcond=None)[0]\n",
    "pred = Sigma_b @ w\n",
    "error = (labels - pred).sum()\n",
    "print(np.isclose(error, 0))"
   ]
  },
  {
   "cell_type": "code",
   "execution_count": 38,
   "metadata": {},
   "outputs": [
    {
     "data": {
      "text/plain": [
       "(100, 2)"
      ]
     },
     "execution_count": 38,
     "metadata": {},
     "output_type": "execute_result"
    }
   ],
   "source": [
    "Sigma_b.shape"
   ]
  }
 ],
 "metadata": {
  "interpreter": {
   "hash": "c9df3a8e963bb936fec972be0f37ee27dd765c2ec402086234430ce5e05a38c9"
  },
  "kernelspec": {
   "display_name": "Python 3.9.7 64-bit ('mlpr': conda)",
   "language": "python",
   "name": "python3"
  },
  "language_info": {
   "codemirror_mode": {
    "name": "ipython",
    "version": 3
   },
   "file_extension": ".py",
   "mimetype": "text/x-python",
   "name": "python",
   "nbconvert_exporter": "python",
   "pygments_lexer": "ipython3",
   "version": "3.9.7"
  },
  "orig_nbformat": 4
 },
 "nbformat": 4,
 "nbformat_minor": 2
}
